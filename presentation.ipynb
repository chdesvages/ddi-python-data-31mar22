{
 "cells": [
  {
   "cell_type": "markdown",
   "id": "3a8d5346",
   "metadata": {
    "slideshow": {
     "slide_type": "slide"
    }
   },
   "source": [
    "# Python for data manipulation - DDI session - 31 Mar 2022\n",
    "\n",
    "Charlotte Desvages"
   ]
  },
  {
   "cell_type": "markdown",
   "id": "09ebbb69",
   "metadata": {
    "slideshow": {
     "slide_type": "slide"
    }
   },
   "source": [
    "## Welcome!\n",
    "\n",
    "Today I'll present an overview of some of the most widely used Python libraries for data manipulation and visualisation."
   ]
  },
  {
   "cell_type": "markdown",
   "id": "e86daf85",
   "metadata": {
    "slideshow": {
     "slide_type": "notes"
    }
   },
   "source": [
    "These are huge libraries with a lot of functionality -- the goal for today won't be to teach you everything about them!\n",
    "\n",
    "Instead, we'll work through some examples, to illustrate and give you a flavour of the kind of problems that each of them can help with."
   ]
  },
  {
   "cell_type": "markdown",
   "id": "d1afb8d2",
   "metadata": {
    "slideshow": {
     "slide_type": "fragment"
    }
   },
   "source": [
    "We will work through **interactive code examples** to demonstrate some of the functionalities of each library.\n",
    "\n",
    "You will be able to play with the code yourselves, using a cloud service called Binder -- no need to install anything!"
   ]
  },
  {
   "cell_type": "markdown",
   "id": "e00b1a24",
   "metadata": {
    "slideshow": {
     "slide_type": "subslide"
    }
   },
   "source": [
    "## Teams communication\n",
    "\n",
    "At the top of Teams, use the [**Reactions** menu](https://support.microsoft.com/en-us/office/express-yourself-in-teams-meetings-with-live-reactions-a8323a40-3d07-4129-934b-305370a36e21#ID0EFD=Desktop).\n",
    "\n",
    "You can also use the **chat** to ask questions."
   ]
  },
  {
   "cell_type": "markdown",
   "id": "0015aa85",
   "metadata": {
    "slideshow": {
     "slide_type": "subslide"
    }
   },
   "source": [
    "### How do I code along?\n",
    "\n",
    "## [bit.ly/ddi-python-31mar22](https://bit.ly/ddi-python-31mar22)\n",
    "\n",
    "Then, click on the \"**launch binder**\" button. You should then see the content of these slides. This is a **Jupyter notebook** -- a Python environment that runs in your browser. Wait until it loads completely (~1min), then:\n",
    "- scroll down until you see the flags 🚩🚩🚩. Then, click on the **Python code cell** just below. You should see a green frame appearing around it.\n",
    "- Click the <kbd>▶</kbd> button in the toolbar at the top (or press <kbd>Ctrl</kbd> + <kbd>Enter</kbd> on your keyboard). This will **run** the code inside the cell, and you will see the result below.\n",
    "\n",
    "# 🚩🚩🚩 Example 1"
   ]
  },
  {
   "cell_type": "code",
   "execution_count": null,
   "id": "a92ea615",
   "metadata": {},
   "outputs": [],
   "source": [
    "import numpy as np\n",
    "print(f'NumPy (version {np.__version__}) imported successfully!')"
   ]
  },
  {
   "cell_type": "code",
   "execution_count": null,
   "id": "730a1965",
   "metadata": {
    "slideshow": {
     "slide_type": "subslide"
    }
   },
   "outputs": [],
   "source": [
    "import numpy as np\n",
    "print(f'NumPy (version {np.__version__}) imported successfully!')"
   ]
  },
  {
   "cell_type": "markdown",
   "id": "259038c4",
   "metadata": {},
   "source": [
    "When you've run the code, `NumPy (version 1.22.1) imported successfully!` should appear **below** the code cell. If that's the case, come back on Teams and give a *thumbs up*. **Don't close your browser tab or you'll lose your progress!**\n",
    "\n",
    "You can follow the presentation on the Teams meeting. When there are code examples you can run and change yourself, they will be flagged with 🚩🚩🚩 if you want to jump back into your notebook."
   ]
  },
  {
   "cell_type": "markdown",
   "id": "c6ae98cf",
   "metadata": {
    "slideshow": {
     "slide_type": "subslide"
    }
   },
   "source": [
    "## Prerequisites\n",
    "\n",
    "Some familiarity with Python will be assumed, but the session should also be accessible to those familiar with programming fundamentals more generally -- even in another language.\n",
    "\n",
    "If at any point I'm going too fast, or you'd like me to explain a particular point or command in more detail, **please do say so in the chat!**"
   ]
  },
  {
   "cell_type": "markdown",
   "id": "1b27a1bf",
   "metadata": {
    "slideshow": {
     "slide_type": "slide"
    }
   },
   "source": [
    "## Our toolbox\n",
    "\n",
    "Today we'll use **5 Python libraries**:\n",
    "\n",
    "- **NumPy** and **SciPy**, for general scientific computing using NumPy *arrays*,\n",
    "- **matplotlib**, to create highly customisable plots,\n",
    "- **pandas**, to work with datasets and manipulate data stored in *dataframes*,\n",
    "- **seaborn**, to generate plots and data visualisations easily from pandas dataframes."
   ]
  },
  {
   "cell_type": "markdown",
   "id": "e741f2b2",
   "metadata": {
    "slideshow": {
     "slide_type": "slide"
    }
   },
   "source": [
    "# NumPy (*Numerical Python*)\n",
    "\n",
    "**NumPy** is an *essential* library for scientific computing. (In fact, SciPy, pandas, and many other libraries are built on top of it!)\n",
    "\n",
    "#### Useful links\n",
    "\n",
    "- [What is NumPy?](https://numpy.org/doc/stable/user/whatisnumpy.html#whatisnumpy)\n",
    "- [NumPy: the absolute basics for beginners](https://numpy.org/doc/stable/user/absolute_beginners.html)"
   ]
  },
  {
   "cell_type": "code",
   "execution_count": null,
   "id": "ecafba52",
   "metadata": {},
   "outputs": [],
   "source": [
    "import numpy as np"
   ]
  },
  {
   "cell_type": "markdown",
   "id": "6c5e16b3",
   "metadata": {
    "slideshow": {
     "slide_type": "subslide"
    }
   },
   "source": [
    "## NumPy features\n",
    "\n",
    "NumPy is built around the **`ndarray` type** (stands for \"N-dimensional array\"). NumPy arrays are *containers*, like lists, which allow us to store and handle vectors and matrices efficiently."
   ]
  },
  {
   "cell_type": "code",
   "execution_count": null,
   "id": "1bfdc843",
   "metadata": {
    "slideshow": {
     "slide_type": "-"
    }
   },
   "outputs": [],
   "source": []
  },
  {
   "cell_type": "markdown",
   "id": "6f6e12c9",
   "metadata": {
    "slideshow": {
     "slide_type": "notes"
    }
   },
   "source": [
    "```py\n",
    "# Create a vector\n",
    "v = np.array([3, 4, -2.8, 0])\n",
    "print(v)\n",
    "print(type(v))\n",
    "\n",
    "# Create a matrix: pass a list of lists to np.array(),\n",
    "# each element of which is a row of the matrix\n",
    "id_4 = np.array([[1, 0, 0, 0],\n",
    "                 [0, 1, 0, 0],\n",
    "                 [0, 0, 1, 0],\n",
    "                 [0, 0, 0, 1]])\n",
    "print(id_4)\n",
    "```"
   ]
  },
  {
   "cell_type": "markdown",
   "id": "56b7a4d8",
   "metadata": {
    "slideshow": {
     "slide_type": "subslide"
    }
   },
   "source": [
    "NumPy also provides convenience functions to construct arrays with particular properties."
   ]
  },
  {
   "cell_type": "code",
   "execution_count": null,
   "id": "9bffbdd6",
   "metadata": {},
   "outputs": [],
   "source": []
  },
  {
   "cell_type": "markdown",
   "id": "2cdf1292",
   "metadata": {
    "slideshow": {
     "slide_type": "notes"
    }
   },
   "source": [
    "```py\n",
    "np.zeros()\n",
    "np.ones()\n",
    "np.eye()\n",
    "np.random.random()\n",
    "np.arange()\n",
    "```"
   ]
  },
  {
   "cell_type": "markdown",
   "id": "0ab6c0cb",
   "metadata": {
    "slideshow": {
     "slide_type": "subslide"
    }
   },
   "source": [
    "## Array operations\n",
    "\n",
    "Using NumPy arrays allows to perform operations on (and between) many numbers at once, *efficiently*."
   ]
  },
  {
   "cell_type": "code",
   "execution_count": null,
   "id": "31bd54b4",
   "metadata": {},
   "outputs": [],
   "source": []
  },
  {
   "cell_type": "markdown",
   "id": "da74caab",
   "metadata": {
    "slideshow": {
     "slide_type": "notes"
    }
   },
   "source": [
    "```py\n",
    "x = np.linspace(1, 5, 5, dtype=int)\n",
    "print(y)\n",
    "print(x)\n",
    "\n",
    "print(x + y)\n",
    "print(x * y)\n",
    "print(x**2)\n",
    "\n",
    "print(y > 5)\n",
    "print(y[y > 5])\n",
    "```\n",
    "\n",
    "Note that matrix multiplication is also possible!\n",
    "\n",
    "We'll come back to NumPy throughout the session."
   ]
  },
  {
   "cell_type": "markdown",
   "id": "ec4c98a8",
   "metadata": {
    "slideshow": {
     "slide_type": "slide"
    }
   },
   "source": [
    "# Plotting data with matplotlib\n",
    "\n",
    "The **matplotlib** library (and its **pyplot** interface) contain a very large number of built-in functions for creating figures and plots.\n",
    "\n",
    "### Useful links\n",
    "\n",
    "* [Matplotlib: Python plotting](https://matplotlib.org/contents.html) - Matplotlib documentation\n",
    "* [Matplotlib gallery](https://matplotlib.org/gallery/index.html)\n",
    "* [Pyplot tutorial](https://matplotlib.org/tutorials/introductory/pyplot.html) - Matplotlib documentation"
   ]
  },
  {
   "cell_type": "code",
   "execution_count": null,
   "id": "f5900def",
   "metadata": {},
   "outputs": [],
   "source": [
    "import matplotlib.pyplot as plt"
   ]
  },
  {
   "cell_type": "markdown",
   "id": "5401d432",
   "metadata": {
    "slideshow": {
     "slide_type": "subslide"
    }
   },
   "source": [
    "# 🚩🚩🚩 Example 2"
   ]
  },
  {
   "cell_type": "code",
   "execution_count": null,
   "id": "feed15d5",
   "metadata": {},
   "outputs": [],
   "source": [
    "# Create an x-axis with 100 points\n",
    "x = np.linspace(-4, 4, 100)\n",
    "\n",
    "# Evaluate the function at all these points\n",
    "y = x ** 2\n",
    "\n",
    "# Create the plot and display it\n",
    "plt.plot(x, y, 'bx')\n",
    "plt.show()"
   ]
  },
  {
   "cell_type": "markdown",
   "id": "28777f72",
   "metadata": {
    "slideshow": {
     "slide_type": "subslide"
    }
   },
   "source": [
    "## Multiple plots"
   ]
  },
  {
   "cell_type": "code",
   "execution_count": null,
   "id": "0e5275ff",
   "metadata": {},
   "outputs": [],
   "source": []
  },
  {
   "cell_type": "markdown",
   "id": "3d8f8761",
   "metadata": {
    "slideshow": {
     "slide_type": "notes"
    }
   },
   "source": [
    "```py\n",
    "# Create a grid of plots with 1 row, 3 columns\n",
    "fig, ax = plt.subplots(1, 3, figsize=(12, 4))\n",
    "\n",
    "# Create an x-axis of 50 points between 0 and 2\n",
    "x = np.linspace(0, 2, 50)\n",
    "\n",
    "# Plot 3 different functions\n",
    "ax[0].plot(x, np.tan(x - 2), 'c-')\n",
    "ax[1].plot(x, np.exp(x), 'g--')\n",
    "ax[2].plot(x, np.sin(x) * np.cos(2*x), 'ro')\n",
    "plt.show()\n",
    "```\n",
    "\n",
    "See [Parts of a figure](https://matplotlib.org/stable/tutorials/introductory/usage.html#parts-of-a-figure) - Matplotlib documentation\n",
    "\n",
    "Try a 2D grid!"
   ]
  },
  {
   "cell_type": "markdown",
   "id": "5e95ed34",
   "metadata": {
    "slideshow": {
     "slide_type": "slide"
    }
   },
   "source": [
    "# SciPy\n",
    "\n",
    "The **SciPy** library provides a set of scientific computing tools for Python -- [it is actually a relative of Numpy](https://www.scipy.org/scipylib/faq.html#numpy-vs-scipy-vs-other-packages).\n",
    "\n",
    "It's not possible to cover *everything* SciPy can do today, so we'll look at some examples.\n",
    "\n",
    "### Useful links\n",
    "\n",
    "* [SciPy documentation](https://docs.scipy.org/doc/scipy/reference/)\n",
    "* [SciPy tutorial - Introduction](https://docs.scipy.org/doc/scipy/reference/tutorial/general.html)\n",
    "* [Frequently asked questions - SciPy documentation](https://www.scipy.org/scipylib/faq.html#frequently-asked-questions)"
   ]
  },
  {
   "cell_type": "markdown",
   "id": "642abb1e",
   "metadata": {
    "slideshow": {
     "slide_type": "subslide"
    }
   },
   "source": [
    "# 🚩🚩🚩 Example 3: interpolating some noisy data"
   ]
  },
  {
   "cell_type": "code",
   "execution_count": null,
   "id": "c48e6397",
   "metadata": {},
   "outputs": [],
   "source": [
    "from scipy.interpolate import interp1d, UnivariateSpline"
   ]
  },
  {
   "cell_type": "markdown",
   "id": "979dbfaf",
   "metadata": {
    "slideshow": {
     "slide_type": "fragment"
    }
   },
   "source": [
    "Let's generate some simulated data for this example."
   ]
  },
  {
   "cell_type": "code",
   "execution_count": null,
   "id": "b590d72b",
   "metadata": {},
   "outputs": [],
   "source": [
    "# Generate simulated data: a sinusoid with some added noise\n",
    "x = np.linspace(0, 10, 30)\n",
    "noise = np.random.normal(0, 0.3, len(x))\n",
    "y = np.sin(x) + noise\n",
    "\n"
   ]
  },
  {
   "cell_type": "markdown",
   "id": "369ae15f",
   "metadata": {
    "slideshow": {
     "slide_type": "notes"
    }
   },
   "source": [
    "```python\n",
    "%matplotlib notebook\n",
    "fig, ax = plt.subplots()\n",
    "ax.plot(x, y, 'k.', label='Noisy data')\n",
    "\n",
    "ax.legend()\n",
    "plt.show()\n",
    "```"
   ]
  },
  {
   "cell_type": "code",
   "execution_count": null,
   "id": "189b6efb",
   "metadata": {
    "slideshow": {
     "slide_type": "subslide"
    }
   },
   "outputs": [],
   "source": [
    "# Create an interpolating function going through all the datapoints\n",
    "f_interp = interp1d(x, y, kind='cubic')\n",
    "\n",
    "# Fit a spline using a different function, which takes a smoothing parameter\n",
    "f_smooth = UnivariateSpline(x, y, s=4)\n",
    "\n",
    "# We can use these functions to get interpolated values for y\n",
    "# at a point in between our x values\n",
    "print(f_interp(1.5))\n",
    "print(f_smooth(1.5))"
   ]
  },
  {
   "cell_type": "code",
   "execution_count": null,
   "id": "a6d67d97",
   "metadata": {
    "slideshow": {
     "slide_type": "subslide"
    }
   },
   "outputs": [],
   "source": [
    "# Plot these splines on top of the data points\n",
    "fig, ax = plt.subplots(figsize=(12, 5))\n",
    "ax.plot(x, y, 'k.', label='Data points')\n",
    "\n"
   ]
  },
  {
   "cell_type": "markdown",
   "id": "3daa46de",
   "metadata": {
    "slideshow": {
     "slide_type": "notes"
    }
   },
   "source": [
    "```py\n",
    "# First, we need a denser x-axis, so the plots look smoother!\n",
    "x_dense = np.linspace(0, 10, 1000)\n",
    "\n",
    "# Use the previous functions, evaluate them at each point in x_dense\n",
    "ax.plot(x_dense, f_interp(x_dense), 'c--', label='Interpolating spline')\n",
    "ax.plot(x_dense, f_smooth(x_dense), 'r-.', label='Smooth spline')\n",
    "\n",
    "ax.legend()\n",
    "plt.show()\n",
    "```\n",
    "\n",
    "- Change noise variance and observe the results.\n",
    "- Change the smoothing parameter `s` and observe the results."
   ]
  },
  {
   "cell_type": "markdown",
   "id": "473e3530",
   "metadata": {
    "slideshow": {
     "slide_type": "subslide"
    }
   },
   "source": [
    "# 🚩🚩🚩 Example 4: Summary statistics\n",
    "\n",
    "Let's continue with NumPy, SciPy, and matplotlib for now.\n",
    "\n",
    "The file `oil_reserve_data.csv` in your binder is a slightly edited version of one that comes from [this EU data source](http://data.europa.eu/euodp/en/data/dataset/RH8xH4aVauYKO92JJxv8sA). It describes the emergency oil reserves kept by several European countries over recent years."
   ]
  },
  {
   "cell_type": "code",
   "execution_count": null,
   "id": "dbb90f78",
   "metadata": {},
   "outputs": [],
   "source": [
    "import numpy as np\n",
    "from scipy import stats"
   ]
  },
  {
   "cell_type": "code",
   "execution_count": null,
   "id": "fcb3ade8",
   "metadata": {
    "slideshow": {
     "slide_type": "subslide"
    }
   },
   "outputs": [],
   "source": [
    "# # Use Numpy's loadtxt function to open the data file:\n",
    "A = np.loadtxt('oil_reserve_data.csv',\n",
    "                  dtype=float,\n",
    "                  delimiter=',',\n",
    "                  skiprows=1,\n",
    "                  usecols=(1, 2, 3, 4))"
   ]
  },
  {
   "cell_type": "code",
   "execution_count": null,
   "id": "30a276fe",
   "metadata": {},
   "outputs": [],
   "source": [
    "# Make sure we name the columns appropriately\n",
    "germany = A.T[0]\n",
    "denmark = A.T[1]\n",
    "belgium = A.T[2]\n",
    "bulgaria = A.T[3]"
   ]
  },
  {
   "cell_type": "code",
   "execution_count": null,
   "id": "f2707896",
   "metadata": {},
   "outputs": [],
   "source": [
    "# Summary statistics with NumPy and SciPy functions\n"
   ]
  },
  {
   "cell_type": "markdown",
   "id": "2a82c5a2",
   "metadata": {
    "slideshow": {
     "slide_type": "notes"
    }
   },
   "source": [
    "```python\n",
    "print(stats.describe(germany))\n",
    "print(stats.describe(denmark))\n",
    "\n",
    "# Find the 5% and 95% percentiles\n",
    "print('\\n5% and 95% percentiles:')\n",
    "print(np.percentile(germany, (5, 95)))\n",
    "\n",
    "# Find the Pearson's and Spearman's correlation coefficients\n",
    "# between two columns:\n",
    "print('\\nCorrelation coefficients for Germany/Denmark and Germany/Bulgaria:')\n",
    "print(stats.pearsonr(germany, denmark))\n",
    "print(stats.spearmanr(germany, bulgaria))\n",
    "\n",
    "# We can save out an array to a file using Numpy's\n",
    "# savetxt() function:\n",
    "np.savetxt('belgium.txt', belgium)\n",
    "```"
   ]
  },
  {
   "cell_type": "code",
   "execution_count": null,
   "id": "72d16beb",
   "metadata": {
    "slideshow": {
     "slide_type": "subslide"
    }
   },
   "outputs": [],
   "source": [
    "# Find a linear relation between the data from Germany and Denmark\n"
   ]
  },
  {
   "cell_type": "markdown",
   "id": "e920df1f",
   "metadata": {
    "slideshow": {
     "slide_type": "notes"
    }
   },
   "source": [
    "```python\n",
    "reg = stats.linregress(germany, denmark)\n",
    "print(reg)\n",
    "print(reg.slope, reg.intercept)\n",
    "\n",
    "# Plot the data and the line of best fit\n",
    "fig, ax = plt.subplots()\n",
    "ax.plot(germany, denmark, 'kx', label='Data points')\n",
    "ax.plot(germany, reg.slope * germany + reg.intercept, 'r-', label='Line of best fit')\n",
    "\n",
    "ax.set(xlabel='Germany', ylabel='Denmark')\n",
    "ax.legend()\n",
    "plt.show()\n",
    "```"
   ]
  },
  {
   "cell_type": "markdown",
   "id": "3a21a857",
   "metadata": {
    "slideshow": {
     "slide_type": "slide"
    }
   },
   "source": [
    "# Dealing with mixed data: pandas\n",
    "\n",
    "Pandas is a module which allows the construction of a **dataframe**, an object to store data that looks a little like a spreadsheet.\n",
    "\n",
    "The data contained in a dataframe does *not* have to be of the same type. \n",
    "\n",
    "### Useful links\n",
    "\n",
    "* [Pandas documentation](http://pandas.pydata.org/pandas-docs/stable/).\n",
    "* [A quick introduction to Pandas](http://pandas.pydata.org/pandas-docs/stable/10min.html)\n",
    "* There is a fantastic tutorial (also in Jupyter) [here](http://pandas.pydata.org/pandas-docs/stable/tutorials.html) (under Lessons for New Pandas Users). This is well worth working through a little if you want a longer introduction to the basic concepts in Pandas."
   ]
  },
  {
   "cell_type": "markdown",
   "id": "da6caae0",
   "metadata": {
    "slideshow": {
     "slide_type": "subslide"
    }
   },
   "source": [
    "# 🚩🚩🚩 Example 5\n",
    "\n",
    "Let's use pandas to read the same data file as the previous example."
   ]
  },
  {
   "cell_type": "code",
   "execution_count": null,
   "id": "60081e7d",
   "metadata": {},
   "outputs": [],
   "source": [
    "import pandas as pd\n",
    "\n",
    "# Use the read_csv method to read the CSV file into a dataframe\n",
    "A = pd.read_csv('oil_reserve_data.csv')\n",
    "\n",
    "# Look at what the dataframe contains\n",
    "print(A)\n",
    "print(type(A))"
   ]
  },
  {
   "cell_type": "code",
   "execution_count": null,
   "id": "70de427a",
   "metadata": {
    "slideshow": {
     "slide_type": "subslide"
    }
   },
   "outputs": [],
   "source": [
    "# Display the data for one country\n",
    "print(A['Germany'])\n"
   ]
  },
  {
   "cell_type": "markdown",
   "id": "7f4a79b6",
   "metadata": {
    "slideshow": {
     "slide_type": "notes"
    }
   },
   "source": [
    "```python\n",
    "# Process the dates appropriately\n",
    "A['Month'] = pd.to_datetime(A['Year/month'], format='%YM%m')\n",
    "print(A.info())\n",
    "```"
   ]
  },
  {
   "cell_type": "code",
   "execution_count": null,
   "id": "89bee3de",
   "metadata": {
    "slideshow": {
     "slide_type": "subslide"
    }
   },
   "outputs": [],
   "source": [
    "# Plot the data for Denmark and Bulgaria\n"
   ]
  },
  {
   "cell_type": "markdown",
   "id": "6f4b0d73",
   "metadata": {
    "slideshow": {
     "slide_type": "notes"
    }
   },
   "source": [
    "```python\n",
    "# Plot the data for Denmark and Bulgaria\n",
    "fig, ax = plt.subplots()\n",
    "ax.plot(A['Month'], A['Denmark'], 'gx', label='Denmark')\n",
    "ax.plot(A['Month'], A['Bulgaria'], 'r.', label='Bulgaria')\n",
    "\n",
    "ax.legend()\n",
    "plt.show()\n",
    "```"
   ]
  },
  {
   "cell_type": "markdown",
   "id": "e0a6617f",
   "metadata": {
    "slideshow": {
     "slide_type": "slide"
    }
   },
   "source": [
    "# Seaborn: visualising dataframes\n",
    "\n",
    "Seaborn is a library based on matplotlib, which provides very useful tools for various statistics and data visualisations.\n",
    "\n",
    "### Useful links\n",
    "\n",
    "- [Seaborn documentation page](https://seaborn.pydata.org/)\n",
    "- [Example gallery](https://seaborn.pydata.org/examples/index.html) demonstrating the types of visualisations you can do\n",
    "- [Introduction with plenty of examples](https://seaborn.pydata.org/introduction.html)\n",
    "- [Tutorial/user guide](https://seaborn.pydata.org/tutorial.html)"
   ]
  },
  {
   "cell_type": "markdown",
   "id": "85a9ee52",
   "metadata": {
    "slideshow": {
     "slide_type": "subslide"
    }
   },
   "source": [
    "# 🚩🚩🚩 Example 6"
   ]
  },
  {
   "cell_type": "code",
   "execution_count": null,
   "id": "6af68a43",
   "metadata": {},
   "outputs": [],
   "source": [
    "import seaborn as sns\n",
    "\n",
    "# Visualise possible correlations between countries\n"
   ]
  },
  {
   "cell_type": "markdown",
   "id": "ae501b35",
   "metadata": {
    "slideshow": {
     "slide_type": "notes"
    }
   },
   "source": [
    "```python\n",
    "grid = sns.PairGrid(A)\n",
    "grid.map(sns.regplot)\n",
    "plt.show()\n",
    "```"
   ]
  },
  {
   "cell_type": "markdown",
   "id": "6dbebc14",
   "metadata": {
    "slideshow": {
     "slide_type": "slide"
    }
   },
   "source": [
    "# Edinburgh cycle hire data\n",
    "\n",
    "Until a few months ago (unfortunately!), Edinburgh had a bike hire scheme, where you could rent a bike from one station to another. The company which ran the scheme published anonymised data every month, containing all information about the bike trips people have made that month.\n",
    "\n",
    "All available data files (since the scheme started in September 2018) are available [here](https://edinburghcyclehire.com/open-data/historical), as well as a description of the data. It is published under the [Open Government License (OGL)](https://www.nationalarchives.gov.uk/doc/open-government-licence/version/3/)."
   ]
  },
  {
   "cell_type": "markdown",
   "id": "ef768c26",
   "metadata": {
    "slideshow": {
     "slide_type": "subslide"
    }
   },
   "source": [
    "Some questions we could investigate:\n",
    "\n",
    "- What is the average journey time and distance of bike trips on weekdays? What about weekends?\n",
    "- How many stations appear in the dataset? Which were the most common starting stations?\n",
    "- What was the most common time(s) of day for journeys to be undertaken?\n",
    "\n",
    "---\n",
    "\n",
    "Useful documentation:\n",
    "\n",
    "- [`pandas.to_datetime()`](https://pandas.pydata.org/docs/reference/api/pandas.to_datetime.html?highlight=to_datetime#pandas.to_datetime)\n",
    "- [The `.dt` accessor](https://pandas.pydata.org/docs/user_guide/basics.html#dt-accessor)\n",
    "- [Time and date components](https://pandas.pydata.org/docs/user_guide/timeseries.html#time-date-components)\n",
    "- Relational plots: [`sns.relplot()`](https://seaborn.pydata.org/generated/seaborn.relplot.html)\n",
    "- Categorical plots: [`sns.catplot()`](https://seaborn.pydata.org/generated/seaborn.catplot.html)\n",
    "- Distribution plots: [`sns.displot()`](https://seaborn.pydata.org/generated/seaborn.displot.html)"
   ]
  },
  {
   "cell_type": "markdown",
   "id": "635bf059",
   "metadata": {
    "slideshow": {
     "slide_type": "subslide"
    }
   },
   "source": [
    "## Mean journey time on weekdays/weekends"
   ]
  },
  {
   "cell_type": "code",
   "execution_count": null,
   "id": "73d0b4fe",
   "metadata": {
    "scrolled": true
   },
   "outputs": [],
   "source": [
    "trips = pd.read_csv('07.csv')\n",
    "trips.head()"
   ]
  },
  {
   "cell_type": "code",
   "execution_count": null,
   "id": "c5d185b7",
   "metadata": {
    "slideshow": {
     "slide_type": "subslide"
    }
   },
   "outputs": [],
   "source": [
    "# Visualise duration of trips taken on different days of the week\n"
   ]
  },
  {
   "cell_type": "markdown",
   "id": "f2db0700",
   "metadata": {
    "slideshow": {
     "slide_type": "notes"
    }
   },
   "source": [
    "```python\n",
    "# trips.info()\n",
    "trips['started_at'] = pd.to_datetime(trips['started_at'])\n",
    "trips['ended_at'] = pd.to_datetime(trips['ended_at'])\n",
    "\n",
    "trips['day_of_week'] = trips['started_at'].dt.dayofweek\n",
    "\n",
    "# Weekdays/weekends\n",
    "from numpy import median\n",
    "\n",
    "sns.catplot(data=trips,\n",
    "            x='day_of_week',\n",
    "            y='duration',\n",
    "            kind='bar',\n",
    "            estimator=median)\n",
    "\n",
    "grid = sns.catplot(data=trips,\n",
    "                   kind='violin',\n",
    "                   x='day_of_week',\n",
    "                   y='duration',\n",
    "                   ylim=[0, 10000])\n",
    "\n",
    "grid = sns.displot(data=trips,\n",
    "                   x='duration',\n",
    "                   hue='day_of_week',\n",
    "                   kind='kde',\n",
    "                   log_scale=True,\n",
    "                   common_norm=False)\n",
    "```"
   ]
  },
  {
   "cell_type": "markdown",
   "id": "77ca8587",
   "metadata": {
    "slideshow": {
     "slide_type": "subslide"
    }
   },
   "source": [
    "## Most common starting stations"
   ]
  },
  {
   "cell_type": "code",
   "execution_count": null,
   "id": "c5e3a41f",
   "metadata": {},
   "outputs": [],
   "source": []
  },
  {
   "cell_type": "markdown",
   "id": "d5d1b28d",
   "metadata": {
    "slideshow": {
     "slide_type": "notes"
    }
   },
   "source": [
    "```python\n",
    "# Getting station information with groupby\n",
    "station_groups = trips.groupby('start_station_name')\n",
    "station_info = pd.DataFrame()\n",
    "\n",
    "for column in ['start_station_name', 'start_station_latitude', 'start_station_longitude']:\n",
    "    station_info[column] = station_groups[column].first()\n",
    "\n",
    "station_info['frequency'] = trips['start_station_name'].value_counts()\n",
    "\n",
    "g = sns.relplot(data=station_info,\n",
    "                kind='scatter',\n",
    "                x='start_station_longitude',\n",
    "                y='start_station_latitude',\n",
    "                hue='frequency',\n",
    "                size='frequency',\n",
    "                height=12)\n",
    "\n",
    "# Get the Axes object using g.ax\n",
    "g.ax.set_aspect('equal')\n",
    "```"
   ]
  }
 ],
 "metadata": {
  "celltoolbar": "Slideshow",
  "kernelspec": {
   "display_name": "Python 3 (ipykernel)",
   "language": "python",
   "name": "python3"
  },
  "language_info": {
   "codemirror_mode": {
    "name": "ipython",
    "version": 3
   },
   "file_extension": ".py",
   "mimetype": "text/x-python",
   "name": "python",
   "nbconvert_exporter": "python",
   "pygments_lexer": "ipython3",
   "version": "3.8.12"
  }
 },
 "nbformat": 4,
 "nbformat_minor": 5
}
